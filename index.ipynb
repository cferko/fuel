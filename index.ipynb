{
 "cells": [
  {
   "cell_type": "markdown",
   "metadata": {},
   "source": [
    "## Fuel Module."
   ]
  },
  {
   "cell_type": "markdown",
   "metadata": {},
   "source": [
    "### Tier 1. Fuel Reaction Analysis\n",
    "\n",
    "Our fuel engineers welcome you! We have begun studying several fuel sources used by these alien societies. Our studies have revealed something quite interesting: Where on Earth, much of our fuel was based on hydrocarbons (molecules containing hydrogen and carbon atoms), fuel on these planets are based on hydrosilicates (molecules containing hydrogen and silicon atoms). \n",
    "\n",
    "OUTCOME: DETERMINE THE CORRECT CHEMICAL EQUATIONS GOVERNING TWO OF THE FUEL REACTIONS.\n",
    "\n",
    "Two different fuels are considered in this problem: hexasilane (Si6H14) and pentasilane (Si5H12). The (unbalanced) reactions are:\n",
    "\n",
    "Hexasilane (reaction 1):\n",
    "\n",
    "Si6H14 + O2 + N2 --> H2O + Si3N4 + H2\n",
    "\n",
    "Pentasilane (reaction 2):\n",
    "\n",
    "Si5H12 + O2 + N2 --> H2O + Si3N4 + H2\n",
    "\n",
    "ANSWER THE FOLLOWING:\n",
    "\n",
    "1) In the code cell below, you may manipulate the MASS in grams of the reactants in each reaction. The plots output the MASS in grams of the Si3N4 product observed by our engineers at that input. Using the output of this study, relate the input masses to the amount in moles of the input, and then use the output mass to find the output Si3N4 in moles. Using this information, BALANCE the reactions given above.\n",
    "\n",
    "NOTE: Be careful not to \"starve\" the reaction by giving too little oxygen or nitrogen gas. To initially determine the relationship between SiXHX and Si3N4, ensure you give more O2 and N2 than needed. This way you can force your SiXHX in each reaction to be the limiting reactant. This is a common strategy in practice when studying these reactions!\n",
    "\n",
    "2) What do you notice when there are large amounts of O2 and N2, and the masses of the reactants are equal?\n",
    "\n",
    "3) Which reaction is more sensitive to oxygen (as in, which \"dies off\" faster as you slowly adjust the oxygen level to a mass of 0)? "
   ]
  },
  {
   "cell_type": "code",
   "execution_count": null,
   "metadata": {
    "collapsed": false
   },
   "outputs": [],
   "source": [
    "'''\n",
    "Ignore this section, our engineers are simply importing \n",
    "some useful material for you.\n",
    "\n",
    "When you are ready to begin, click in this cell and click \"Run\".\n",
    "Ask if you need help\n",
    "'''\n",
    "# from __future__ import print_function\n",
    "from IPython.html.widgets import interact, interactive, fixed\n",
    "from IPython.html import widgets\n",
    "from ipywidgets import widgets\n",
    "import numpy as np\n",
    "import matplotlib.pyplot as plt\n",
    "from fuelcalls import *\n",
    "%matplotlib inline\n",
    "\n",
    "interact(fuelStudy1,\\\n",
    "        r1_mass=(0,1000,20),\\\n",
    "        r2_mass=(0,1000,20),\\\n",
    "        o2_mass=(0,500,25),\\\n",
    "        n2_mass=(0,800,25));"
   ]
  },
  {
   "cell_type": "markdown",
   "metadata": {
    "collapsed": true
   },
   "source": [
    "### Tier 2. Fuel Efficiency Analysis\n",
    "\n",
    "Now that we have a better understanding of some of the fuel reactions used by these aliens, let's take a look at the important question of efficiency. We will begin by studying the effects of various catalysts added to the fuel during flight in space.\n",
    "\n",
    "The plot given below provides the energy output as the craft flies through space, for specified concentrations of two catalysts used in the fuel reactions: Catalysts \"A\" and \"B\". You may manipulate the concentrations using the sliders, and see the energy output plotted as a function of the speed the craft is flying at.\n",
    "\n",
    "ANSWER THE FOLLOWING:\n",
    "\n",
    "1) A specific merchant has requested we limit the concentration of Catalyst B to between 20% and 30%. Given we limit B to between these concentrations, estimate what concentrations of catalyst A provide the highest fuel efficiency at a speed of 0.2c. What about 0.7c? Would your answer change if we specified Catalyst B have a concentration of 60%?\n",
    "\n",
    "2) A pilot we are working with has said they frequently have to navigate an asteroid belt, where their speed varies randomly between 0.3c and 0.6c. If they can only specify one concentration level for the entire flight, which level would your team recommend? Inform this decision by taking data in the corresponding speed range, and perhaps by drawing a quick plot of optimal concentration vs. speed while holding one of the concentrations constant. Remember that this pilot is looking for a relatively constant energy output as he varies his speed between 0.3c and 0.6c. Note that many combinations could work; justify your response and be ready to defend it to a Commander.\n",
    "\n",
    "3) As the concentration of catalyst increases, the rate at which solid Si3N4 is produced as a product decreases. This has the effect of weakening the ship's defenses for the duration of the flight. Why do you think this is? Might the aliens be repurposing this product for another purpose? (Hint: research this compound and look for its common uses)"
   ]
  },
  {
   "cell_type": "code",
   "execution_count": null,
   "metadata": {
    "collapsed": false
   },
   "outputs": [],
   "source": [
    "'''\n",
    "Ignore this section, our engineers are simply importing \n",
    "some useful material for you.\n",
    "\n",
    "When you are ready to begin, click in this cell and click \"Run\".\n",
    "Ask if you need help\n",
    "'''\n",
    "# print 'hey'\n",
    "# from __future__ import print_function\n",
    "from IPython.html.widgets import interact, interactive, fixed\n",
    "from IPython.html import widgets\n",
    "from ipywidgets import widgets\n",
    "import numpy as np\n",
    "import matplotlib.pyplot as plt\n",
    "from fuelcalls import *\n",
    "%matplotlib inline\n",
    "\n",
    "interact(fuelStudy2,\\\n",
    "        catalyst_a=(0.05,1.,0.05),\\\n",
    "        catalyst_b=(0.05,1.,0.05));\n"
   ]
  },
  {
   "cell_type": "markdown",
   "metadata": {
    "collapsed": false
   },
   "source": [
    "### Tier 3. Booster Design Optimization\n",
    "\n",
    "Now that we have a better understanding of our fuel mixtures, we can now turn our attention to the actual design of the booster rockets themselves! Now, as we design these systems, we must choose values of critical *design variables.* These are the quantities that, as designers, we can control and change to best fit the goals of our customer (the aliens!). We have three design variables to consider:\n",
    "\n",
    "1) The APERTURE SIZE, in square meters. This is the size of the opening at the bottom of the rocket through which the fuel exits. \n",
    "\n",
    "2) The CRUISE SPEED. This is the speed, as a fraction of the speed of light (c), that the ship will maintain during long-distance voyages.\n",
    "\n",
    "3) The FUEL CAPACITY, in kiloliters. This is how much fuel, pre-mixed with catalyst, the ship can carry.\n",
    "\n",
    "Your task here will be to consider several different customers, and recommend designs of these boosters given their goals. For this task, you may manipulate the bars in the cell below to get responses for various outputs. \n",
    "\n",
    "The outputs are:\n",
    "\n",
    "A) Weight, in megagrams. This is the full weight of the craft.\n",
    "\n",
    "B) Cost. This is how much the craft will cost, in alien currency, to fly one light year.\n",
    "\n",
    "C) Refueling Distance. This is how long the ship can fly, in light years, before needing to be refueled, assuming the ship starts on a full tank.\n",
    "\n",
    "ANSWER THE FOLLOWING:\n",
    "\n",
    "1) How do each of the inputs affect each of the outputs? Does increasing each input increase, decrease, or not change each of the outputs?\n",
    "\n",
    "2) A long-range pilot wishes to requisition a booster set with a budget of 8,000 credits, weighing at least 5.5 megagrams (for insurance purposes). He must travel a distance of 40 light years, and reach his destination, without refueling, in 60 years. As a fraction of the speed of light (which is how cruise speed is specified in this project), how fast must he travel? Can you recommend a feasible design that gets the pilot to his destination on time and within budget?\n",
    "\n",
    "3) A wealthy customer wishes to requisition a booster set that will allow her to travel at a speed of 0.8c, and travel a minimum distance of 50 light years without stopping to refuel. Estimate the absolute minimum fuel capacity required to achieve this, if the aperture size could take on any value.\n",
    "\n",
    "4) The customer in question (3) later discovers that, due to a regulation, the aperture opening must be at least 5 square meters. Is there a design that meets this requirement while also achieving a speed of 0.8c and a refuel distance of 50 light years? What is the maximum refuel distance at these specifications?"
   ]
  },
  {
   "cell_type": "code",
   "execution_count": null,
   "metadata": {
    "collapsed": false
   },
   "outputs": [],
   "source": [
    "'''\n",
    "Ignore this section, our engineers are simply importing \n",
    "some useful material for you.\n",
    "\n",
    "When you are ready to begin, click in this cell and click \"Run\".\n",
    "Ask if you need help.\n",
    "'''\n",
    "# from __future__ import print_function\n",
    "from IPython.html.widgets import interact, interactive, fixed\n",
    "from IPython.html import widgets\n",
    "from ipywidgets import widgets\n",
    "import numpy as np\n",
    "import matplotlib.pyplot as plt\n",
    "from fuelcalls import *\n",
    "%matplotlib inline\n",
    "\n",
    "interact(fuelStudy3,\\\n",
    "        aperture_size=(1.,6.,0.1),\\\n",
    "        cruise_speed=(0.2,1.0,0.05),\\\n",
    "        fuel_capacity=(1000,5000,100));\n"
   ]
  },
  {
   "cell_type": "code",
   "execution_count": null,
   "metadata": {
    "collapsed": true
   },
   "outputs": [],
   "source": []
  }
 ],
 "metadata": {
  "kernelspec": {
   "display_name": "Python 2",
   "language": "python",
   "name": "python2"
  },
  "language_info": {
   "codemirror_mode": {
    "name": "ipython",
    "version": 2
   },
   "file_extension": ".py",
   "mimetype": "text/x-python",
   "name": "python",
   "nbconvert_exporter": "python",
   "pygments_lexer": "ipython2",
   "version": "2.7.11"
  }
 },
 "nbformat": 4,
 "nbformat_minor": 0
}
